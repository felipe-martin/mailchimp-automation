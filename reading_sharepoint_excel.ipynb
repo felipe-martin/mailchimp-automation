{
 "cells": [
  {
   "cell_type": "code",
   "execution_count": 11,
   "metadata": {},
   "outputs": [
    {
     "name": "stdout",
     "output_type": "stream",
     "text": [
      "Collecting Office365-REST-Python-Client\n",
      "  Downloading Office365_REST_Python_Client-2.3.16-py3-none-any.whl (716 kB)\n",
      "\u001b[2K     \u001b[90m━━━━━━━━━━━━━━━━━━━━━━━━━━━━━━━━━━━━━━━\u001b[0m \u001b[32m716.6/716.6 kB\u001b[0m \u001b[31m7.2 MB/s\u001b[0m eta \u001b[36m0:00:00\u001b[0ma \u001b[36m0:00:01\u001b[0m\n",
      "\u001b[?25hRequirement already satisfied: requests in /Users/jarroyo/miniforge3/envs/vtm-base/lib/python3.8/site-packages (from Office365-REST-Python-Client) (2.28.1)\n",
      "Requirement already satisfied: pytz in /Users/jarroyo/miniforge3/envs/vtm-base/lib/python3.8/site-packages (from Office365-REST-Python-Client) (2022.1)\n",
      "Collecting msal\n",
      "  Downloading msal-1.20.0-py2.py3-none-any.whl (90 kB)\n",
      "\u001b[2K     \u001b[90m━━━━━━━━━━━━━━━━━━━━━━━━━━━━━━━━━━━━━━━━\u001b[0m \u001b[32m90.0/90.0 kB\u001b[0m \u001b[31m13.7 MB/s\u001b[0m eta \u001b[36m0:00:00\u001b[0m\n",
      "\u001b[?25hCollecting PyJWT[crypto]<3,>=1.0.0\n",
      "  Downloading PyJWT-2.6.0-py3-none-any.whl (20 kB)\n",
      "Requirement already satisfied: cryptography<41,>=0.6 in /Users/jarroyo/miniforge3/envs/vtm-base/lib/python3.8/site-packages (from msal->Office365-REST-Python-Client) (37.0.1)\n",
      "Requirement already satisfied: urllib3<1.27,>=1.21.1 in /Users/jarroyo/miniforge3/envs/vtm-base/lib/python3.8/site-packages (from requests->Office365-REST-Python-Client) (1.26.10)\n",
      "Requirement already satisfied: charset-normalizer<3,>=2 in /Users/jarroyo/miniforge3/envs/vtm-base/lib/python3.8/site-packages (from requests->Office365-REST-Python-Client) (2.1.0)\n",
      "Requirement already satisfied: idna<4,>=2.5 in /Users/jarroyo/miniforge3/envs/vtm-base/lib/python3.8/site-packages (from requests->Office365-REST-Python-Client) (3.3)\n",
      "Requirement already satisfied: certifi>=2017.4.17 in /Users/jarroyo/miniforge3/envs/vtm-base/lib/python3.8/site-packages (from requests->Office365-REST-Python-Client) (2022.9.24)\n",
      "Requirement already satisfied: cffi>=1.12 in /Users/jarroyo/miniforge3/envs/vtm-base/lib/python3.8/site-packages (from cryptography<41,>=0.6->msal->Office365-REST-Python-Client) (1.15.1)\n",
      "Requirement already satisfied: pycparser in /Users/jarroyo/miniforge3/envs/vtm-base/lib/python3.8/site-packages (from cffi>=1.12->cryptography<41,>=0.6->msal->Office365-REST-Python-Client) (2.21)\n",
      "Installing collected packages: PyJWT, msal, Office365-REST-Python-Client\n",
      "Successfully installed Office365-REST-Python-Client-2.3.16 PyJWT-2.6.0 msal-1.20.0\n"
     ]
    }
   ],
   "source": [
    "!pip install Office365-REST-Python-Client"
   ]
  },
  {
   "attachments": {},
   "cell_type": "markdown",
   "metadata": {},
   "source": [
    "### Trying with Sharepy"
   ]
  },
  {
   "cell_type": "code",
   "execution_count": 3,
   "metadata": {},
   "outputs": [],
   "source": [
    "import io\n",
    "import sharepy\n",
    "import pandas as pd"
   ]
  },
  {
   "cell_type": "code",
   "execution_count": 20,
   "metadata": {},
   "outputs": [],
   "source": [
    "URL = 'https://vitamina365.sharepoint.com/'\n",
    "FILE_URL = 'https://vitamina365.sharepoint.com/:x:/r/sites/LMS/_layouts/15/Doc.aspx?sourcedoc=%7B6DA2E02F-8F88-417D-A1E0-8F263A275627%7D&file=rooms.csv&action=default&mobileredirect=true'\n",
    "SHAREPOINT_USER = 'python-sharepoint@vitamina.cl'\n",
    "SHAREPOINT_PASSWORD = 'Inicio.2022'"
   ]
  },
  {
   "cell_type": "code",
   "execution_count": 27,
   "metadata": {},
   "outputs": [],
   "source": [
    "from office365.runtime.auth.authentication_context import AuthenticationContext\n",
    "from office365.sharepoint.client_context import ClientContext\n",
    "from office365.sharepoint.files.file import File\n",
    "\n",
    "url = 'https://vitamina365.com/sites/documentsite'\n",
    "username = 'python-sharepoint@vitamina.cl'\n",
    "password = 'Inicio.2022'\n",
    "relative_url = '/sites/LMS/Documentos%20compartidos/rooms.csv'\n",
    "\n",
    "\n"
   ]
  },
  {
   "cell_type": "code",
   "execution_count": 29,
   "metadata": {},
   "outputs": [],
   "source": [
    "ctx_auth = AuthenticationContext(url)\n",
    "ctx = ClientContext(url, ctx_auth)"
   ]
  },
  {
   "cell_type": "code",
   "execution_count": 31,
   "metadata": {},
   "outputs": [
    {
     "ename": "AttributeError",
     "evalue": "'NoneType' object has no attribute 'authenticate_request'",
     "output_type": "error",
     "traceback": [
      "\u001b[0;31m---------------------------------------------------------------------------\u001b[0m",
      "\u001b[0;31mAttributeError\u001b[0m                            Traceback (most recent call last)",
      "\u001b[1;32m/Users/jarroyo/Documents/Desarrollos Vitamina/SHAREPOINT_NEW_CHILDREN_VITAMINA/reading_sharepoint_excel.ipynb Celda 7\u001b[0m in \u001b[0;36m<cell line: 4>\u001b[0;34m()\u001b[0m\n\u001b[1;32m      <a href='vscode-notebook-cell:/Users/jarroyo/Documents/Desarrollos%20Vitamina/SHAREPOINT_NEW_CHILDREN_VITAMINA/reading_sharepoint_excel.ipynb#X13sZmlsZQ%3D%3D?line=0'>1</a>\u001b[0m \u001b[39mimport\u001b[39;00m \u001b[39mio\u001b[39;00m\n\u001b[1;32m      <a href='vscode-notebook-cell:/Users/jarroyo/Documents/Desarrollos%20Vitamina/SHAREPOINT_NEW_CHILDREN_VITAMINA/reading_sharepoint_excel.ipynb#X13sZmlsZQ%3D%3D?line=1'>2</a>\u001b[0m \u001b[39mimport\u001b[39;00m \u001b[39mpandas\u001b[39;00m \u001b[39mas\u001b[39;00m \u001b[39mpd\u001b[39;00m\n\u001b[0;32m----> <a href='vscode-notebook-cell:/Users/jarroyo/Documents/Desarrollos%20Vitamina/SHAREPOINT_NEW_CHILDREN_VITAMINA/reading_sharepoint_excel.ipynb#X13sZmlsZQ%3D%3D?line=3'>4</a>\u001b[0m response \u001b[39m=\u001b[39m File\u001b[39m.\u001b[39;49mopen_binary(ctx, relative_url)\n\u001b[1;32m      <a href='vscode-notebook-cell:/Users/jarroyo/Documents/Desarrollos%20Vitamina/SHAREPOINT_NEW_CHILDREN_VITAMINA/reading_sharepoint_excel.ipynb#X13sZmlsZQ%3D%3D?line=5'>6</a>\u001b[0m \u001b[39m#save data to BytesIO stream\u001b[39;00m\n\u001b[1;32m      <a href='vscode-notebook-cell:/Users/jarroyo/Documents/Desarrollos%20Vitamina/SHAREPOINT_NEW_CHILDREN_VITAMINA/reading_sharepoint_excel.ipynb#X13sZmlsZQ%3D%3D?line=6'>7</a>\u001b[0m bytes_file_obj \u001b[39m=\u001b[39m io\u001b[39m.\u001b[39mBytesIO()\n",
      "File \u001b[0;32m~/miniforge3/envs/vtm-base/lib/python3.8/site-packages/office365/sharepoint/files/file.py:422\u001b[0m, in \u001b[0;36mFile.open_binary\u001b[0;34m(context, server_relative_url)\u001b[0m\n\u001b[1;32m    420\u001b[0m request \u001b[39m=\u001b[39m RequestOptions(url)\n\u001b[1;32m    421\u001b[0m request\u001b[39m.\u001b[39mmethod \u001b[39m=\u001b[39m HttpMethod\u001b[39m.\u001b[39mGet\n\u001b[0;32m--> 422\u001b[0m response \u001b[39m=\u001b[39m context\u001b[39m.\u001b[39;49mpending_request()\u001b[39m.\u001b[39;49mexecute_request_direct(request)\n\u001b[1;32m    423\u001b[0m \u001b[39mreturn\u001b[39;00m response\n",
      "File \u001b[0;32m~/miniforge3/envs/vtm-base/lib/python3.8/site-packages/office365/runtime/client_request.py:69\u001b[0m, in \u001b[0;36mClientRequest.execute_request_direct\u001b[0;34m(self, request)\u001b[0m\n\u001b[1;32m     64\u001b[0m \u001b[39mdef\u001b[39;00m \u001b[39mexecute_request_direct\u001b[39m(\u001b[39mself\u001b[39m, request):\n\u001b[1;32m     65\u001b[0m     \u001b[39m\"\"\"Execute the client request\u001b[39;00m\n\u001b[1;32m     66\u001b[0m \n\u001b[1;32m     67\u001b[0m \u001b[39m    :type request: office365.runtime.http.request_options.RequestOptions\u001b[39;00m\n\u001b[1;32m     68\u001b[0m \u001b[39m    \"\"\"\u001b[39;00m\n\u001b[0;32m---> 69\u001b[0m     \u001b[39mself\u001b[39;49m\u001b[39m.\u001b[39;49mbeforeExecute\u001b[39m.\u001b[39;49mnotify(request)\n\u001b[1;32m     70\u001b[0m     \u001b[39mif\u001b[39;00m request\u001b[39m.\u001b[39mmethod \u001b[39m==\u001b[39m HttpMethod\u001b[39m.\u001b[39mPost:\n\u001b[1;32m     71\u001b[0m         \u001b[39mif\u001b[39;00m request\u001b[39m.\u001b[39mis_bytes \u001b[39mor\u001b[39;00m request\u001b[39m.\u001b[39mis_file:\n",
      "File \u001b[0;32m~/miniforge3/envs/vtm-base/lib/python3.8/site-packages/office365/runtime/types/event_handler.py:21\u001b[0m, in \u001b[0;36mEventHandler.notify\u001b[0;34m(self, *args, **kwargs)\u001b[0m\n\u001b[1;32m     19\u001b[0m \u001b[39mif\u001b[39;00m \u001b[39mself\u001b[39m\u001b[39m.\u001b[39m_once:\n\u001b[1;32m     20\u001b[0m     \u001b[39mself\u001b[39m\u001b[39m.\u001b[39m_listeners\u001b[39m.\u001b[39mremove(listener)\n\u001b[0;32m---> 21\u001b[0m listener(\u001b[39m*\u001b[39;49margs, \u001b[39m*\u001b[39;49m\u001b[39m*\u001b[39;49mkwargs)\n",
      "File \u001b[0;32m~/miniforge3/envs/vtm-base/lib/python3.8/site-packages/office365/sharepoint/client_context.py:212\u001b[0m, in \u001b[0;36mClientContext._authenticate_request\u001b[0;34m(self, request)\u001b[0m\n\u001b[1;32m    211\u001b[0m \u001b[39mdef\u001b[39;00m \u001b[39m_authenticate_request\u001b[39m(\u001b[39mself\u001b[39m, request):\n\u001b[0;32m--> 212\u001b[0m     \u001b[39mself\u001b[39;49m\u001b[39m.\u001b[39;49mauthentication_context\u001b[39m.\u001b[39;49mauthenticate_request(request)\n",
      "File \u001b[0;32m~/miniforge3/envs/vtm-base/lib/python3.8/site-packages/office365/runtime/auth/authentication_context.py:97\u001b[0m, in \u001b[0;36mAuthenticationContext.authenticate_request\u001b[0;34m(self, request)\u001b[0m\n\u001b[1;32m     91\u001b[0m \u001b[39mdef\u001b[39;00m \u001b[39mauthenticate_request\u001b[39m(\u001b[39mself\u001b[39m, request):\n\u001b[1;32m     92\u001b[0m     \u001b[39m\"\"\"\u001b[39;00m\n\u001b[1;32m     93\u001b[0m \u001b[39m    Authenticate request\u001b[39;00m\n\u001b[1;32m     94\u001b[0m \n\u001b[1;32m     95\u001b[0m \u001b[39m    :type request: office365.runtime.http.request_options.RequestOptions\u001b[39;00m\n\u001b[1;32m     96\u001b[0m \u001b[39m    \"\"\"\u001b[39;00m\n\u001b[0;32m---> 97\u001b[0m     \u001b[39mself\u001b[39;49m\u001b[39m.\u001b[39;49m_provider\u001b[39m.\u001b[39;49mauthenticate_request(request)\n",
      "\u001b[0;31mAttributeError\u001b[0m: 'NoneType' object has no attribute 'authenticate_request'"
     ]
    }
   ],
   "source": [
    "import io\n",
    "import pandas as pd\n",
    "\n",
    "response = File.open_binary(ctx, relative_url)\n",
    "\n",
    "#save data to BytesIO stream\n",
    "bytes_file_obj = io.BytesIO()\n",
    "bytes_file_obj.write(response.content)\n",
    "bytes_file_obj.seek(0) #set file object to start\n",
    "\n",
    "#read file into pandas dataframe\n",
    "df = pd.read_excel(bytes_file_obj)"
   ]
  },
  {
   "cell_type": "code",
   "execution_count": null,
   "metadata": {},
   "outputs": [],
   "source": []
  }
 ],
 "metadata": {
  "kernelspec": {
   "display_name": "vtm-base",
   "language": "python",
   "name": "python3"
  },
  "language_info": {
   "codemirror_mode": {
    "name": "ipython",
    "version": 3
   },
   "file_extension": ".py",
   "mimetype": "text/x-python",
   "name": "python",
   "nbconvert_exporter": "python",
   "pygments_lexer": "ipython3",
   "version": "3.8.13"
  },
  "orig_nbformat": 4,
  "vscode": {
   "interpreter": {
    "hash": "b77dbaf828105685d2947236b1076e66eeb159dd80d72a225eb3743cc29841b5"
   }
  }
 },
 "nbformat": 4,
 "nbformat_minor": 2
}
