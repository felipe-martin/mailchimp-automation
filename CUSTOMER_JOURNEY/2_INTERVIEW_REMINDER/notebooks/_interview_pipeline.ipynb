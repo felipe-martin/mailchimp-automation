{
 "cells": [
  {
   "cell_type": "code",
   "execution_count": 1,
   "metadata": {},
   "outputs": [],
   "source": [
    "import pandas as pd\n",
    "from utils.config import Config\n",
    "from utils.functions import op_functions\n",
    "import sys, json\n",
    "import warnings\n",
    "warnings.filterwarnings(\"ignore\")"
   ]
  },
  {
   "cell_type": "code",
   "execution_count": 4,
   "metadata": {},
   "outputs": [
    {
     "name": "stdout",
     "output_type": "stream",
     "text": [
      "[INFO] //////////////////// CREDENTIALS MODULE STARTED 🤘🏻... ////////////////////\n",
      "[INFO] //////////////////// CONNECTING TO MAILCHIMP 🐵... ////////////////////\n",
      "[INFO] //////////////////// MAILCHIMP CONNECTED 🙊... ////////////////////\n",
      "[INFO] //////////////////// CONNECTING TO SQL SERVER 💾... ////////////////////\n",
      "[INFO] //////////////////// SQL SERVER CONNECTED 🧑🏻‍💻... ////////////////////\n",
      "[INFO] //////////// LECTURA TABLA DESDE XANO USANDO ENDPOINT... ////////////\n",
      "[INFO] //////////// LECTURA TABLA CORRECTA... ////////////\n",
      "[INFO] //////////////////// TEMPLATE SELECCIONADO: WELCOME 📧... ////////////////////\n",
      "¡Bienvenidos a Jardines Infantiles & Salas Cuna Vitamina 🧡!\n"
     ]
    }
   ],
   "source": [
    "#Inicializar modulo de configuracion\n",
    "cfg = Config()\n",
    "\n",
    "#Conectar aplicaciones 🧰\n",
    "MAILCHIMP_USERNAME, MAILCHIMP_APIKEY, SQL_SERVER, SQL_SERVER_DATABASE, SQL_SERVER_USERNAME, SQL_SERVER_PASSWORD, ENDPOINT_1, ENDPOINT_2, ENDPOINT_3, ENDPOINT_4, ENDPOINT_5, ENDPOINT_6 = cfg.get_credentials()\n",
    "mailchimp_client, sql_server_conn = cfg.connect_tools(MAILCHIMP_USERNAME, MAILCHIMP_APIKEY, SQL_SERVER, SQL_SERVER_DATABASE, SQL_SERVER_USERNAME, SQL_SERVER_PASSWORD)\n",
    "\n",
    "#Obtener fechas en distintos formatos\n",
    "mailchimp_date, current_date, current_year = cfg.get_date()\n",
    "\n",
    "#Obteniendo configuracion de la campaña especifica\n",
    "campaing_email_code = 'WELCOME'\n",
    "#campaing_email_code = args.campaing_email_code\n",
    "email_template, email_from_name, email_reply_to, email_subject, email_send_flag, trigger_threshold_days = cfg.get_config_template(campaing_email_code)\n",
    "print(email_subject)\n",
    "threshold_days = trigger_threshold_days * -1"
   ]
  },
  {
   "cell_type": "code",
   "execution_count": 5,
   "metadata": {},
   "outputs": [
    {
     "name": "stdout",
     "output_type": "stream",
     "text": [
      "[INFO] //////////////////// MAILCHIMP AUTOMATION MODULE ACTIVE 📧... ////////////////////\n"
     ]
    }
   ],
   "source": [
    "fn = op_functions(mailchimp_client, sql_server_conn, current_year, ENDPOINT_1, ENDPOINT_2, ENDPOINT_3, ENDPOINT_4, ENDPOINT_5, ENDPOINT_6)"
   ]
  },
  {
   "cell_type": "code",
   "execution_count": 6,
   "metadata": {},
   "outputs": [
    {
     "name": "stdout",
     "output_type": "stream",
     "text": [
      "[INFO] //////////// GETTING LIST NEW ADMISSIONS TO SEND WELCOME EMAIL 🙈 ////////////\n",
      "[INFO] //////////// LECTURA TABLA DESDE XANO USANDO ENDPOINT... ////////////\n",
      "[INFO] //////////// LECTURA TABLA CORRECTA... ////////////\n",
      "[INFO] //////////// EMPTY LIST. NOTHING TO SEND TODAY 🙈 ////////////\n"
     ]
    },
    {
     "data": {
      "text/plain": [
       "['jaime.arroyo@vitamina.com',\n",
       " 'javiera.carter@vitamina.com',\n",
       " 'camila.saa@vitamina.com']"
      ]
     },
     "execution_count": 6,
     "metadata": {},
     "output_type": "execute_result"
    }
   ],
   "source": [
    "contacts = fn.get_new_admissions(current_date, threshold_days)\n",
    "contacts"
   ]
  },
  {
   "cell_type": "code",
   "execution_count": 18,
   "metadata": {},
   "outputs": [],
   "source": [
    "# Prueba\n",
    "contacts = pd.DataFrame(contacts, columns=['Email'])"
   ]
  },
  {
   "cell_type": "code",
   "execution_count": 20,
   "metadata": {},
   "outputs": [
    {
     "name": "stdout",
     "output_type": "stream",
     "text": [
      "[INFO] //////////////////// ADDING MEMBERS TO AUDIENCE IN MAILCHIMP 🙋🏻‍♀️ > 🐵... ////////////////////\n",
      "[INFO] Email    jaime.arroyo@vitamina.com\n",
      "Name: 0, dtype: object HAS BEEN SUCCESSFULLY ADDED TO THE 9b5c022126 AUDIENCE\n",
      "[INFO] Email    javiera.carter@vitamina.com\n",
      "Name: 1, dtype: object HAS BEEN SUCCESSFULLY ADDED TO THE 9b5c022126 AUDIENCE\n",
      "[INFO] Email    camila.saa@vitamina.com\n",
      "Name: 2, dtype: object HAS BEEN SUCCESSFULLY ADDED TO THE 9b5c022126 AUDIENCE\n"
     ]
    }
   ],
   "source": [
    "fn.add_members_to_welcome_journey('9b5c022126',contacts)"
   ]
  },
  {
   "cell_type": "code",
   "execution_count": 24,
   "metadata": {},
   "outputs": [
    {
     "data": {
      "text/html": [
       "<div>\n",
       "<style scoped>\n",
       "    .dataframe tbody tr th:only-of-type {\n",
       "        vertical-align: middle;\n",
       "    }\n",
       "\n",
       "    .dataframe tbody tr th {\n",
       "        vertical-align: top;\n",
       "    }\n",
       "\n",
       "    .dataframe thead th {\n",
       "        text-align: right;\n",
       "    }\n",
       "</style>\n",
       "<table border=\"1\" class=\"dataframe\">\n",
       "  <thead>\n",
       "    <tr style=\"text-align: right;\">\n",
       "      <th></th>\n",
       "      <th>Email</th>\n",
       "    </tr>\n",
       "  </thead>\n",
       "  <tbody>\n",
       "    <tr>\n",
       "      <th>0</th>\n",
       "      <td>barbara.rodriguez@vitamina.com</td>\n",
       "    </tr>\n",
       "    <tr>\n",
       "      <th>1</th>\n",
       "      <td>python-sharepoint@vitamina.com</td>\n",
       "    </tr>\n",
       "  </tbody>\n",
       "</table>\n",
       "</div>"
      ],
      "text/plain": [
       "                            Email\n",
       "0  barbara.rodriguez@vitamina.com\n",
       "1  python-sharepoint@vitamina.com"
      ]
     },
     "execution_count": 24,
     "metadata": {},
     "output_type": "execute_result"
    }
   ],
   "source": [
    "mails = []\n",
    "new_contact = 'barbara.rodriguez@vitamina.com'\n",
    "mails.append(new_contact)\n",
    "mails.append('python-sharepoint@vitamina.com')\n",
    "# Prueba\n",
    "contacts = pd.DataFrame(mails, columns=['Email'])\n",
    "contacts"
   ]
  },
  {
   "cell_type": "code",
   "execution_count": 25,
   "metadata": {},
   "outputs": [
    {
     "name": "stdout",
     "output_type": "stream",
     "text": [
      "[INFO] //////////////////// ADDING MEMBERS TO AUDIENCE IN MAILCHIMP 🙋🏻‍♀️ > 🐵... ////////////////////\n",
      "[INFO] Email    barbara.rodriguez@vitamina.com\n",
      "Name: 0, dtype: object HAS BEEN SUCCESSFULLY ADDED TO THE 9b5c022126 AUDIENCE\n",
      "[INFO] Email    python-sharepoint@vitamina.com\n",
      "Name: 1, dtype: object HAS BEEN SUCCESSFULLY ADDED TO THE 9b5c022126 AUDIENCE\n"
     ]
    }
   ],
   "source": [
    "fn.add_members_to_welcome_journey('9b5c022126',contacts)"
   ]
  },
  {
   "cell_type": "code",
   "execution_count": 26,
   "metadata": {},
   "outputs": [
    {
     "data": {
      "text/html": [
       "<div>\n",
       "<style scoped>\n",
       "    .dataframe tbody tr th:only-of-type {\n",
       "        vertical-align: middle;\n",
       "    }\n",
       "\n",
       "    .dataframe tbody tr th {\n",
       "        vertical-align: top;\n",
       "    }\n",
       "\n",
       "    .dataframe thead th {\n",
       "        text-align: right;\n",
       "    }\n",
       "</style>\n",
       "<table border=\"1\" class=\"dataframe\">\n",
       "  <thead>\n",
       "    <tr style=\"text-align: right;\">\n",
       "      <th></th>\n",
       "      <th>Email</th>\n",
       "    </tr>\n",
       "  </thead>\n",
       "  <tbody>\n",
       "    <tr>\n",
       "      <th>0</th>\n",
       "      <td>bg.rodriguezg@gmail.com</td>\n",
       "    </tr>\n",
       "    <tr>\n",
       "      <th>1</th>\n",
       "      <td>jaarroyl@gmail.com</td>\n",
       "    </tr>\n",
       "    <tr>\n",
       "      <th>2</th>\n",
       "      <td>mafernandaroca@gmail.com</td>\n",
       "    </tr>\n",
       "    <tr>\n",
       "      <th>3</th>\n",
       "      <td>zorisvelasquez@gmail.com</td>\n",
       "    </tr>\n",
       "  </tbody>\n",
       "</table>\n",
       "</div>"
      ],
      "text/plain": [
       "                      Email\n",
       "0   bg.rodriguezg@gmail.com\n",
       "1        jaarroyl@gmail.com\n",
       "2  mafernandaroca@gmail.com\n",
       "3  zorisvelasquez@gmail.com"
      ]
     },
     "execution_count": 26,
     "metadata": {},
     "output_type": "execute_result"
    }
   ],
   "source": [
    "email_list = []\n",
    "mails = [\n",
    "    'bg.rodriguezg@gmail.com', \n",
    "    'jaarroyl@gmail.com', \n",
    "    'mafernandaroca@gmail.com', \n",
    "    'zorisvelasquez@gmail.com',\n",
    "    ]\n",
    "for mail in mails:\n",
    "    email_list.append(mail)\n",
    "email_list = pd.DataFrame(email_list, columns=['Email'])\n",
    "email_list"
   ]
  },
  {
   "cell_type": "code",
   "execution_count": 27,
   "metadata": {},
   "outputs": [
    {
     "name": "stdout",
     "output_type": "stream",
     "text": [
      "[INFO] //////////////////// ADDING MEMBERS TO AUDIENCE IN MAILCHIMP 🙋🏻‍♀️ > 🐵... ////////////////////\n",
      "[INFO] Email    bg.rodriguezg@gmail.com\n",
      "Name: 0, dtype: object HAS BEEN SUCCESSFULLY ADDED TO THE 9b5c022126 AUDIENCE\n",
      "[INFO] Email    jaarroyl@gmail.com\n",
      "Name: 1, dtype: object HAS BEEN SUCCESSFULLY ADDED TO THE 9b5c022126 AUDIENCE\n",
      "[INFO] Email    mafernandaroca@gmail.com\n",
      "Name: 2, dtype: object HAS BEEN SUCCESSFULLY ADDED TO THE 9b5c022126 AUDIENCE\n",
      "[INFO] Email    zorisvelasquez@gmail.com\n",
      "Name: 3, dtype: object HAS BEEN SUCCESSFULLY ADDED TO THE 9b5c022126 AUDIENCE\n"
     ]
    }
   ],
   "source": [
    "fn.add_members_to_welcome_journey('9b5c022126',email_list)"
   ]
  },
  {
   "cell_type": "code",
   "execution_count": null,
   "metadata": {},
   "outputs": [],
   "source": []
  }
 ],
 "metadata": {
  "kernelspec": {
   "display_name": "mailchimp",
   "language": "python",
   "name": "python3"
  },
  "language_info": {
   "codemirror_mode": {
    "name": "ipython",
    "version": 3
   },
   "file_extension": ".py",
   "mimetype": "text/x-python",
   "name": "python",
   "nbconvert_exporter": "python",
   "pygments_lexer": "ipython3",
   "version": "3.8.16"
  },
  "orig_nbformat": 4
 },
 "nbformat": 4,
 "nbformat_minor": 2
}
