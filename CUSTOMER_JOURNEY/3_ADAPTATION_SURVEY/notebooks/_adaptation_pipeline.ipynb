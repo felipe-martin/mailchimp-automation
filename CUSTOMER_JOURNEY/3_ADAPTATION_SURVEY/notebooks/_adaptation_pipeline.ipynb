{
 "cells": [
  {
   "cell_type": "code",
   "execution_count": 1,
   "metadata": {},
   "outputs": [],
   "source": [
    "import pandas as pd\n",
    "from utils.config import Config\n",
    "from utils.functions import op_functions\n",
    "import sys, json\n",
    "import warnings\n",
    "warnings.filterwarnings(\"ignore\")"
   ]
  },
  {
   "cell_type": "code",
   "execution_count": 2,
   "metadata": {},
   "outputs": [
    {
     "name": "stdout",
     "output_type": "stream",
     "text": [
      "[INFO] //////////////////// CREDENTIALS MODULE STARTED 🤘🏻... ////////////////////\n",
      "[INFO] //////////////////// CONNECTING TO MAILCHIMP 🐵... ////////////////////\n",
      "[INFO] //////////////////// MAILCHIMP CONNECTED 🙊... ////////////////////\n",
      "[INFO] //////////////////// CONNECTING TO SQL SERVER 💾... ////////////////////\n",
      "[INFO] //////////////////// SQL SERVER CONNECTED 🧑🏻‍💻... ////////////////////\n",
      "[INFO] //////////// LECTURA TABLA DESDE XANO USANDO ENDPOINT... ////////////\n",
      "[INFO] //////////// LECTURA TABLA CORRECTA... ////////////\n",
      "[INFO] //////////////////// TEMPLATE SELECCIONADO: ENADAP 📧... ////////////////////\n",
      "Asunto configurado: ¿Cuéntanos cómo fueron tus primeros días en Vitamina? 🧡\n",
      "Trigger configurado: 1 dia(s)\n"
     ]
    }
   ],
   "source": [
    "#Inicializar modulo de configuracion\n",
    "cfg = Config()\n",
    "\n",
    "#Conectar aplicaciones 🧰\n",
    "MAILCHIMP_USERNAME, \\\n",
    "MAILCHIMP_APIKEY, \\\n",
    "SQL_SERVER, \\\n",
    "SQL_SERVER_DATABASE, \\\n",
    "SQL_SERVER_USERNAME, \\\n",
    "SQL_SERVER_PASSWORD, \\\n",
    "ENDPOINT_1, \\\n",
    "ENDPOINT_2, \\\n",
    "ENDPOINT_3, \\\n",
    "ENDPOINT_4, \\\n",
    "ENDPOINT_5,\\\n",
    "ENDPOINT_6, \\\n",
    "ENDPOINT_7 = cfg.get_credentials()\n",
    "mailchimp_client, sql_server_conn = cfg.connect_tools(MAILCHIMP_USERNAME, \n",
    "                                                      MAILCHIMP_APIKEY, \n",
    "                                                      SQL_SERVER, \n",
    "                                                      SQL_SERVER_DATABASE, \n",
    "                                                      SQL_SERVER_USERNAME, \n",
    "                                                      SQL_SERVER_PASSWORD)\n",
    "\n",
    "#Obtener fechas en distintos formatos\n",
    "mailchimp_date, current_date, current_year = cfg.get_date()\n",
    "\n",
    "#Obteniendo configuracion de la campaña especifica\n",
    "campaing_email_code = 'ENADAP'\n",
    "#campaing_email_code = args.campaing_email_code\n",
    "email_template, email_from_name, email_reply_to, email_subject, email_send_flag, trigger_threshold_days = cfg.get_config_template(campaing_email_code)\n",
    "print(f'Asunto configurado: {email_subject}')\n",
    "threshold_days = trigger_threshold_days * -1\n",
    "print(f'Trigger configurado: {trigger_threshold_days} dia(s)', )"
   ]
  },
  {
   "cell_type": "code",
   "execution_count": 3,
   "metadata": {},
   "outputs": [
    {
     "name": "stdout",
     "output_type": "stream",
     "text": [
      "[INFO] //////////////////// MAILCHIMP AUTOMATION MODULE ACTIVE 📧... ////////////////////\n"
     ]
    }
   ],
   "source": [
    "fn = op_functions(mailchimp_client, \n",
    "                  sql_server_conn, \n",
    "                  current_year, \n",
    "                  ENDPOINT_1, \n",
    "                  ENDPOINT_2, \n",
    "                  ENDPOINT_3, \n",
    "                  ENDPOINT_4,\n",
    "                  ENDPOINT_5, \n",
    "                  ENDPOINT_6,\n",
    "                  ENDPOINT_7)"
   ]
  },
  {
   "cell_type": "code",
   "execution_count": 4,
   "metadata": {},
   "outputs": [
    {
     "name": "stdout",
     "output_type": "stream",
     "text": [
      "[INFO] //////////// GETTING LIST NEW ADMISSIONS TO SEND WELCOME EMAIL 🙈 ////////////\n",
      "[INFO] //////////// LECTURA TABLA DESDE XANO USANDO ENDPOINT... ////////////\n",
      "[INFO] //////////// LECTURA TABLA CORRECTA... ////////////\n"
     ]
    },
    {
     "data": {
      "text/html": [
       "<div>\n",
       "<style scoped>\n",
       "    .dataframe tbody tr th:only-of-type {\n",
       "        vertical-align: middle;\n",
       "    }\n",
       "\n",
       "    .dataframe tbody tr th {\n",
       "        vertical-align: top;\n",
       "    }\n",
       "\n",
       "    .dataframe thead th {\n",
       "        text-align: right;\n",
       "    }\n",
       "</style>\n",
       "<table border=\"1\" class=\"dataframe\">\n",
       "  <thead>\n",
       "    <tr style=\"text-align: right;\">\n",
       "      <th></th>\n",
       "      <th>child_service_id</th>\n",
       "      <th>child_vitamina_id</th>\n",
       "      <th>child_name</th>\n",
       "      <th>child_adaptation_scheduling_end_dt</th>\n",
       "      <th>child_educational_guardian_id</th>\n",
       "      <th>child_financial_guardian_email</th>\n",
       "      <th>Email</th>\n",
       "      <th>adaptation_end_date</th>\n",
       "      <th>date</th>\n",
       "      <th>current_date</th>\n",
       "      <th>days_difference</th>\n",
       "      <th>TAG</th>\n",
       "      <th>TIPO</th>\n",
       "    </tr>\n",
       "  </thead>\n",
       "  <tbody>\n",
       "    <tr>\n",
       "      <th>6</th>\n",
       "      <td>194060</td>\n",
       "      <td>58991</td>\n",
       "      <td>BENJAMIN ALONSO FUENTES PRADENAS</td>\n",
       "      <td>2023-04-10 09:30:00</td>\n",
       "      <td>120751</td>\n",
       "      <td>kpradenabec24h@gmail.com</td>\n",
       "      <td>jaime.arroyo@vitamina.com</td>\n",
       "      <td>10/04/2023</td>\n",
       "      <td>2023-04-10</td>\n",
       "      <td>2023-04-11</td>\n",
       "      <td>-1</td>\n",
       "      <td>1940605899112075120230411</td>\n",
       "      <td>ENADAP</td>\n",
       "    </tr>\n",
       "    <tr>\n",
       "      <th>7</th>\n",
       "      <td>194152</td>\n",
       "      <td>59058</td>\n",
       "      <td>SEBASTIAN IGNACIO BOLIVAR AGUILAR</td>\n",
       "      <td>2023-04-10 09:30:00</td>\n",
       "      <td>120906</td>\n",
       "      <td>absaly11@gmail.com</td>\n",
       "      <td>camila.saa@vitamina.com</td>\n",
       "      <td>10/04/2023</td>\n",
       "      <td>2023-04-10</td>\n",
       "      <td>2023-04-11</td>\n",
       "      <td>-1</td>\n",
       "      <td>1941525905812090620230411</td>\n",
       "      <td>ENADAP</td>\n",
       "    </tr>\n",
       "  </tbody>\n",
       "</table>\n",
       "</div>"
      ],
      "text/plain": [
       "   child_service_id  child_vitamina_id                         child_name  \\\n",
       "6            194060              58991   BENJAMIN ALONSO FUENTES PRADENAS   \n",
       "7            194152              59058  SEBASTIAN IGNACIO BOLIVAR AGUILAR   \n",
       "\n",
       "  child_adaptation_scheduling_end_dt  child_educational_guardian_id  \\\n",
       "6                2023-04-10 09:30:00                         120751   \n",
       "7                2023-04-10 09:30:00                         120906   \n",
       "\n",
       "  child_financial_guardian_email                      Email  \\\n",
       "6       kpradenabec24h@gmail.com  jaime.arroyo@vitamina.com   \n",
       "7             absaly11@gmail.com    camila.saa@vitamina.com   \n",
       "\n",
       "  adaptation_end_date        date current_date  days_difference  \\\n",
       "6          10/04/2023  2023-04-10   2023-04-11               -1   \n",
       "7          10/04/2023  2023-04-10   2023-04-11               -1   \n",
       "\n",
       "                         TAG    TIPO  \n",
       "6  1940605899112075120230411  ENADAP  \n",
       "7  1941525905812090620230411  ENADAP  "
      ]
     },
     "execution_count": 4,
     "metadata": {},
     "output_type": "execute_result"
    }
   ],
   "source": [
    "contacts = fn.get_end_adaptations(current_date, threshold_days, campaing_email_code)\n",
    "contacts"
   ]
  },
  {
   "cell_type": "code",
   "execution_count": 6,
   "metadata": {},
   "outputs": [
    {
     "name": "stdout",
     "output_type": "stream",
     "text": [
      "[INFO] //////////////////// ADDING MEMBERS TO AUDIENCE IN MAILCHIMP 🙋🏻‍♀️ > 🐵... ////////////////////\n",
      "[INFO] child_service_id                                                194060\n",
      "child_vitamina_id                                                58991\n",
      "child_name                            BENJAMIN ALONSO FUENTES PRADENAS\n",
      "child_adaptation_scheduling_end_dt                 2023-04-10 09:30:00\n",
      "child_educational_guardian_id                                   120751\n",
      "child_financial_guardian_email                kpradenabec24h@gmail.com\n",
      "Email                                        jaime.arroyo@vitamina.com\n",
      "adaptation_end_date                                         10/04/2023\n",
      "date                                                        2023-04-10\n",
      "current_date                                                2023-04-11\n",
      "days_difference                                                     -1\n",
      "TAG                                          1940605899112075120230411\n",
      "TIPO                                                            ENADAP\n",
      "Name: 6, dtype: object HAS BEEN SUCCESSFULLY ADDED TO THE de22bb4365 AUDIENCE\n",
      "[INFO] //////////s// BATCH EJECUTADO CORRECTAMENTE ////////////\n",
      "[INFO] child_service_id                                                 194152\n",
      "child_vitamina_id                                                 59058\n",
      "child_name                            SEBASTIAN IGNACIO BOLIVAR AGUILAR\n",
      "child_adaptation_scheduling_end_dt                  2023-04-10 09:30:00\n",
      "child_educational_guardian_id                                    120906\n",
      "child_financial_guardian_email                       absaly11@gmail.com\n",
      "Email                                           camila.saa@vitamina.com\n",
      "adaptation_end_date                                          10/04/2023\n",
      "date                                                         2023-04-10\n",
      "current_date                                                 2023-04-11\n",
      "days_difference                                                      -1\n",
      "TAG                                           1941525905812090620230411\n",
      "TIPO                                                             ENADAP\n",
      "Name: 7, dtype: object HAS BEEN SUCCESSFULLY ADDED TO THE de22bb4365 AUDIENCE\n",
      "[INFO] //////////s// BATCH EJECUTADO CORRECTAMENTE ////////////\n"
     ]
    }
   ],
   "source": [
    "# Agregando contactos a la audiencia\n",
    "fn.add_members_to_adaptation_journey('de22bb4365',contacts)"
   ]
  },
  {
   "cell_type": "code",
   "execution_count": null,
   "metadata": {},
   "outputs": [],
   "source": []
  }
 ],
 "metadata": {
  "kernelspec": {
   "display_name": "mailchimp",
   "language": "python",
   "name": "python3"
  },
  "language_info": {
   "codemirror_mode": {
    "name": "ipython",
    "version": 3
   },
   "file_extension": ".py",
   "mimetype": "text/x-python",
   "name": "python",
   "nbconvert_exporter": "python",
   "pygments_lexer": "ipython3",
   "version": "3.8.16"
  },
  "orig_nbformat": 4
 },
 "nbformat": 4,
 "nbformat_minor": 2
}
